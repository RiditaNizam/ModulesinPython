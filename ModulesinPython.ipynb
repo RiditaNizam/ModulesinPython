{
  "nbformat": 4,
  "nbformat_minor": 0,
  "metadata": {
    "colab": {
      "name": "ModulesinPython.ipynb",
      "provenance": [],
      "authorship_tag": "ABX9TyOMPcd+QgsVJVJUdCfBHRhq",
      "include_colab_link": true
    },
    "kernelspec": {
      "name": "python3",
      "display_name": "Python 3"
    },
    "language_info": {
      "name": "python"
    }
  },
  "cells": [
    {
      "cell_type": "markdown",
      "metadata": {
        "id": "view-in-github",
        "colab_type": "text"
      },
      "source": [
        "<a href=\"https://colab.research.google.com/github/RiditaNizam/ModulesinPython/blob/main/ModulesinPython.ipynb\" target=\"_parent\"><img src=\"https://colab.research.google.com/assets/colab-badge.svg\" alt=\"Open In Colab\"/></a>"
      ]
    },
    {
      "cell_type": "markdown",
      "metadata": {
        "id": "3mK_qretYem6"
      },
      "source": [
        "LinkedIn Learning\n",
        "Python Quick Start"
      ]
    },
    {
      "cell_type": "code",
      "metadata": {
        "id": "P_j87VfCYao2"
      },
      "source": [
        "import random"
      ],
      "execution_count": 9,
      "outputs": []
    },
    {
      "cell_type": "code",
      "metadata": {
        "colab": {
          "base_uri": "https://localhost:8080/"
        },
        "id": "n4_mlORsZPyj",
        "outputId": "eaa73577-8790-42fe-a111-421a938ccd1f"
      },
      "source": [
        "#Inclusive of the 2nd number\n",
        "randomNumber = random.randint(1, 50)\n",
        "\n",
        "print(randomNumber)"
      ],
      "execution_count": 10,
      "outputs": [
        {
          "output_type": "stream",
          "text": [
            "12\n"
          ],
          "name": "stdout"
        }
      ]
    },
    {
      "cell_type": "code",
      "metadata": {
        "colab": {
          "base_uri": "https://localhost:8080/"
        },
        "id": "QMcCGlMqYscY",
        "outputId": "88fb53aa-b033-48fb-f56f-38aa45422eb7"
      },
      "source": [
        "#Choose a random one\n",
        "foods = [\"apple\", \"banana\", \"carrot\"]\n",
        "\n",
        "pickedFood = random.choice(foods)\n",
        "\n",
        "print(pickedFood)"
      ],
      "execution_count": 11,
      "outputs": [
        {
          "output_type": "stream",
          "text": [
            "carrot\n"
          ],
          "name": "stdout"
        }
      ]
    },
    {
      "cell_type": "code",
      "metadata": {
        "colab": {
          "base_uri": "https://localhost:8080/"
        },
        "id": "lkTxVoD8ZVo7",
        "outputId": "8564c87c-0adb-4084-de0e-96416e84867b"
      },
      "source": [
        "#Shuffle\n",
        "cards = [\"Ace\", \"King\", \"Queen\"]\n",
        "\n",
        "random.shuffle(cards)\n",
        "\n",
        "print(cards)"
      ],
      "execution_count": 12,
      "outputs": [
        {
          "output_type": "stream",
          "text": [
            "['Queen', 'Ace', 'King']\n"
          ],
          "name": "stdout"
        }
      ]
    }
  ]
}